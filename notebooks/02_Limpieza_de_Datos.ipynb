{
 "cells": [
  {
   "cell_type": "markdown",
   "metadata": {},
   "source": [
    "### 1. Carga de datos ###"
   ]
  },
  {
   "cell_type": "code",
   "execution_count": 141,
   "metadata": {},
   "outputs": [],
   "source": [
    "import pandas as pd\n",
    "from pathlib import Path\n",
    "df = pd.read_csv('../data/raw/Student_performance_data.csv')"
   ]
  },
  {
   "cell_type": "markdown",
   "metadata": {},
   "source": [
    "### 2. Limpieza de datos ###"
   ]
  },
  {
   "cell_type": "markdown",
   "metadata": {},
   "source": [
    "Como se mencionó el el notebook de análisis exploratorio, la calidad de este dataset es buena ya que no posee datos nulos ni duplicados"
   ]
  },
  {
   "cell_type": "markdown",
   "metadata": {},
   "source": [
    "### 3. Generación y modificación de datos"
   ]
  },
  {
   "cell_type": "markdown",
   "metadata": {},
   "source": [
    "Comenzamos modificando el tipo de dato de las variables categoricas y cambiando sus valores por unos más descriptivos con la finalidad de que el análisis y los gráficos sean mas faciles de entender"
   ]
  },
  {
   "cell_type": "markdown",
   "metadata": {},
   "source": [
    "Genero"
   ]
  },
  {
   "cell_type": "code",
   "execution_count": 142,
   "metadata": {},
   "outputs": [],
   "source": [
    "df = df.astype({\"Gender\": str})\n",
    "df.loc[df[\"Gender\"] == \"0\", \"Gender\"] = \"Male\"\n",
    "df.loc[df[\"Gender\"] == \"1\", \"Gender\"] = \"Female\""
   ]
  },
  {
   "cell_type": "markdown",
   "metadata": {},
   "source": [
    "Ethnicity"
   ]
  },
  {
   "cell_type": "code",
   "execution_count": 143,
   "metadata": {},
   "outputs": [],
   "source": [
    "df = df.astype({\"Ethnicity\": str})\n",
    "df.loc[df[\"Ethnicity\"] == \"0\", \"Ethnicity\"] = \"Caucasian\"\n",
    "df.loc[df[\"Ethnicity\"] == \"1\", \"Ethnicity\"] = \"African American\"\n",
    "df.loc[df[\"Ethnicity\"] == \"2\", \"Ethnicity\"] = \"Asian\"\n",
    "df.loc[df[\"Ethnicity\"] == \"3\", \"Ethnicity\"] = \"Other\""
   ]
  },
  {
   "cell_type": "markdown",
   "metadata": {},
   "source": [
    "ParentalEducation"
   ]
  },
  {
   "cell_type": "code",
   "execution_count": 144,
   "metadata": {},
   "outputs": [],
   "source": [
    "df = df.astype({\"ParentalEducation\": str})\n",
    "df.loc[df[\"ParentalEducation\"] == \"0\", \"ParentalEducation\"] = \"None\"\n",
    "df.loc[df[\"ParentalEducation\"] == \"1\", \"ParentalEducation\"] = \"High School\"\n",
    "df.loc[df[\"ParentalEducation\"] == \"2\", \"ParentalEducation\"] = \"Some College\"\n",
    "df.loc[df[\"ParentalEducation\"] == \"3\", \"ParentalEducation\"] = \"Bachelor's\"\n",
    "df.loc[df[\"ParentalEducation\"] == \"4\", \"ParentalEducation\"] = \"Higher\""
   ]
  },
  {
   "cell_type": "markdown",
   "metadata": {},
   "source": [
    "Tutoring"
   ]
  },
  {
   "cell_type": "code",
   "execution_count": 145,
   "metadata": {},
   "outputs": [],
   "source": [
    "df = df.astype({\"Tutoring\": str})\n",
    "df.loc[df[\"Tutoring\"] == \"0\", \"Tutoring\"] = \"No\"\n",
    "df.loc[df[\"Tutoring\"] == \"1\", \"Tutoring\"] = \"Yes\""
   ]
  },
  {
   "cell_type": "markdown",
   "metadata": {},
   "source": [
    "ParentalSupport"
   ]
  },
  {
   "cell_type": "code",
   "execution_count": 146,
   "metadata": {},
   "outputs": [],
   "source": [
    "df = df.astype({\"ParentalSupport\": str})\n",
    "df.loc[df[\"ParentalSupport\"] == \"0\", \"ParentalSupport\"] = \"None\"\n",
    "df.loc[df[\"ParentalSupport\"] == \"1\", \"ParentalSupport\"] = \"Low\"\n",
    "df.loc[df[\"ParentalSupport\"] == \"2\", \"ParentalSupport\"] = \"Moderate\"\n",
    "df.loc[df[\"ParentalSupport\"] == \"3\", \"ParentalSupport\"] = \"High\"\n",
    "df.loc[df[\"ParentalSupport\"] == \"4\", \"ParentalSupport\"] = \"Very High\""
   ]
  },
  {
   "cell_type": "markdown",
   "metadata": {},
   "source": [
    "Extracurricular"
   ]
  },
  {
   "cell_type": "code",
   "execution_count": 147,
   "metadata": {},
   "outputs": [],
   "source": [
    "df = df.astype({\"Extracurricular\": str})\n",
    "df.loc[df[\"Extracurricular\"] == \"0\", \"Extracurricular\"] = \"No\"\n",
    "df.loc[df[\"Extracurricular\"] == \"1\", \"Extracurricular\"] = \"Yes\""
   ]
  },
  {
   "cell_type": "markdown",
   "metadata": {},
   "source": [
    "Sports"
   ]
  },
  {
   "cell_type": "code",
   "execution_count": 148,
   "metadata": {},
   "outputs": [],
   "source": [
    "df = df.astype({\"Sports\": str})\n",
    "df.loc[df[\"Sports\"] == \"0\", \"Sports\"] = \"No\"\n",
    "df.loc[df[\"Sports\"] == \"1\", \"Sports\"] = \"Yes\""
   ]
  },
  {
   "cell_type": "markdown",
   "metadata": {},
   "source": [
    "Music"
   ]
  },
  {
   "cell_type": "code",
   "execution_count": 149,
   "metadata": {},
   "outputs": [],
   "source": [
    "df = df.astype({\"Music\": str})\n",
    "df.loc[df[\"Music\"] == \"0\", \"Music\"] = \"No\"\n",
    "df.loc[df[\"Music\"] == \"1\", \"Music\"] = \"Yes\""
   ]
  },
  {
   "cell_type": "markdown",
   "metadata": {},
   "source": [
    "Volunteering"
   ]
  },
  {
   "cell_type": "code",
   "execution_count": 150,
   "metadata": {},
   "outputs": [],
   "source": [
    "df = df.astype({\"Volunteering\": str})\n",
    "df.loc[df[\"Volunteering\"] == \"0\", \"Volunteering\"] = \"No\"\n",
    "df.loc[df[\"Volunteering\"] == \"1\", \"Volunteering\"] = \"Yes\""
   ]
  },
  {
   "cell_type": "markdown",
   "metadata": {},
   "source": [
    "GradeClass"
   ]
  },
  {
   "cell_type": "code",
   "execution_count": 151,
   "metadata": {},
   "outputs": [],
   "source": [
    "df = df.astype({\"GradeClass\": str})\n",
    "df.loc[df[\"GradeClass\"] == \"0.0\", \"GradeClass\"] = \"A\"\n",
    "df.loc[df[\"GradeClass\"] == \"1.0\", \"GradeClass\"] = \"B\"\n",
    "df.loc[df[\"GradeClass\"] == \"2.0\", \"GradeClass\"] = \"C\"\n",
    "df.loc[df[\"GradeClass\"] == \"3.0\", \"GradeClass\"] = \"D\"\n",
    "df.loc[df[\"GradeClass\"] == \"4.0\", \"GradeClass\"] = \"F\""
   ]
  },
  {
   "cell_type": "code",
   "execution_count": 152,
   "metadata": {},
   "outputs": [
    {
     "data": {
      "text/html": [
       "<div>\n",
       "<style scoped>\n",
       "    .dataframe tbody tr th:only-of-type {\n",
       "        vertical-align: middle;\n",
       "    }\n",
       "\n",
       "    .dataframe tbody tr th {\n",
       "        vertical-align: top;\n",
       "    }\n",
       "\n",
       "    .dataframe thead th {\n",
       "        text-align: right;\n",
       "    }\n",
       "</style>\n",
       "<table border=\"1\" class=\"dataframe\">\n",
       "  <thead>\n",
       "    <tr style=\"text-align: right;\">\n",
       "      <th></th>\n",
       "      <th>StudentID</th>\n",
       "      <th>Age</th>\n",
       "      <th>Gender</th>\n",
       "      <th>Ethnicity</th>\n",
       "      <th>ParentalEducation</th>\n",
       "      <th>StudyTimeWeekly</th>\n",
       "      <th>Absences</th>\n",
       "      <th>Tutoring</th>\n",
       "      <th>ParentalSupport</th>\n",
       "      <th>Extracurricular</th>\n",
       "      <th>Sports</th>\n",
       "      <th>Music</th>\n",
       "      <th>Volunteering</th>\n",
       "      <th>GPA</th>\n",
       "      <th>GradeClass</th>\n",
       "    </tr>\n",
       "  </thead>\n",
       "  <tbody>\n",
       "    <tr>\n",
       "      <th>0</th>\n",
       "      <td>1001</td>\n",
       "      <td>17</td>\n",
       "      <td>Female</td>\n",
       "      <td>Caucasian</td>\n",
       "      <td>Some College</td>\n",
       "      <td>19.833723</td>\n",
       "      <td>7</td>\n",
       "      <td>Yes</td>\n",
       "      <td>Moderate</td>\n",
       "      <td>No</td>\n",
       "      <td>No</td>\n",
       "      <td>Yes</td>\n",
       "      <td>No</td>\n",
       "      <td>2.929196</td>\n",
       "      <td>C</td>\n",
       "    </tr>\n",
       "    <tr>\n",
       "      <th>1</th>\n",
       "      <td>1002</td>\n",
       "      <td>18</td>\n",
       "      <td>Male</td>\n",
       "      <td>Caucasian</td>\n",
       "      <td>High School</td>\n",
       "      <td>15.408756</td>\n",
       "      <td>0</td>\n",
       "      <td>No</td>\n",
       "      <td>Low</td>\n",
       "      <td>No</td>\n",
       "      <td>No</td>\n",
       "      <td>No</td>\n",
       "      <td>No</td>\n",
       "      <td>3.042915</td>\n",
       "      <td>B</td>\n",
       "    </tr>\n",
       "    <tr>\n",
       "      <th>2</th>\n",
       "      <td>1003</td>\n",
       "      <td>15</td>\n",
       "      <td>Male</td>\n",
       "      <td>Asian</td>\n",
       "      <td>Bachelor's</td>\n",
       "      <td>4.210570</td>\n",
       "      <td>26</td>\n",
       "      <td>No</td>\n",
       "      <td>Moderate</td>\n",
       "      <td>No</td>\n",
       "      <td>No</td>\n",
       "      <td>No</td>\n",
       "      <td>No</td>\n",
       "      <td>0.112602</td>\n",
       "      <td>F</td>\n",
       "    </tr>\n",
       "    <tr>\n",
       "      <th>3</th>\n",
       "      <td>1004</td>\n",
       "      <td>17</td>\n",
       "      <td>Female</td>\n",
       "      <td>Caucasian</td>\n",
       "      <td>Bachelor's</td>\n",
       "      <td>10.028829</td>\n",
       "      <td>14</td>\n",
       "      <td>No</td>\n",
       "      <td>High</td>\n",
       "      <td>Yes</td>\n",
       "      <td>No</td>\n",
       "      <td>No</td>\n",
       "      <td>No</td>\n",
       "      <td>2.054218</td>\n",
       "      <td>D</td>\n",
       "    </tr>\n",
       "    <tr>\n",
       "      <th>4</th>\n",
       "      <td>1005</td>\n",
       "      <td>17</td>\n",
       "      <td>Female</td>\n",
       "      <td>Caucasian</td>\n",
       "      <td>Some College</td>\n",
       "      <td>4.672495</td>\n",
       "      <td>17</td>\n",
       "      <td>Yes</td>\n",
       "      <td>High</td>\n",
       "      <td>No</td>\n",
       "      <td>No</td>\n",
       "      <td>No</td>\n",
       "      <td>No</td>\n",
       "      <td>1.288061</td>\n",
       "      <td>F</td>\n",
       "    </tr>\n",
       "    <tr>\n",
       "      <th>...</th>\n",
       "      <td>...</td>\n",
       "      <td>...</td>\n",
       "      <td>...</td>\n",
       "      <td>...</td>\n",
       "      <td>...</td>\n",
       "      <td>...</td>\n",
       "      <td>...</td>\n",
       "      <td>...</td>\n",
       "      <td>...</td>\n",
       "      <td>...</td>\n",
       "      <td>...</td>\n",
       "      <td>...</td>\n",
       "      <td>...</td>\n",
       "      <td>...</td>\n",
       "      <td>...</td>\n",
       "    </tr>\n",
       "    <tr>\n",
       "      <th>2387</th>\n",
       "      <td>3388</td>\n",
       "      <td>18</td>\n",
       "      <td>Female</td>\n",
       "      <td>Caucasian</td>\n",
       "      <td>Bachelor's</td>\n",
       "      <td>10.680555</td>\n",
       "      <td>2</td>\n",
       "      <td>No</td>\n",
       "      <td>Very High</td>\n",
       "      <td>Yes</td>\n",
       "      <td>No</td>\n",
       "      <td>No</td>\n",
       "      <td>No</td>\n",
       "      <td>3.455509</td>\n",
       "      <td>A</td>\n",
       "    </tr>\n",
       "    <tr>\n",
       "      <th>2388</th>\n",
       "      <td>3389</td>\n",
       "      <td>17</td>\n",
       "      <td>Male</td>\n",
       "      <td>Caucasian</td>\n",
       "      <td>High School</td>\n",
       "      <td>7.583217</td>\n",
       "      <td>4</td>\n",
       "      <td>Yes</td>\n",
       "      <td>Very High</td>\n",
       "      <td>No</td>\n",
       "      <td>Yes</td>\n",
       "      <td>No</td>\n",
       "      <td>No</td>\n",
       "      <td>3.279150</td>\n",
       "      <td>F</td>\n",
       "    </tr>\n",
       "    <tr>\n",
       "      <th>2389</th>\n",
       "      <td>3390</td>\n",
       "      <td>16</td>\n",
       "      <td>Female</td>\n",
       "      <td>Caucasian</td>\n",
       "      <td>Some College</td>\n",
       "      <td>6.805500</td>\n",
       "      <td>20</td>\n",
       "      <td>No</td>\n",
       "      <td>Moderate</td>\n",
       "      <td>No</td>\n",
       "      <td>No</td>\n",
       "      <td>No</td>\n",
       "      <td>Yes</td>\n",
       "      <td>1.142333</td>\n",
       "      <td>C</td>\n",
       "    </tr>\n",
       "    <tr>\n",
       "      <th>2390</th>\n",
       "      <td>3391</td>\n",
       "      <td>16</td>\n",
       "      <td>Female</td>\n",
       "      <td>African American</td>\n",
       "      <td>None</td>\n",
       "      <td>12.416653</td>\n",
       "      <td>17</td>\n",
       "      <td>No</td>\n",
       "      <td>Moderate</td>\n",
       "      <td>No</td>\n",
       "      <td>Yes</td>\n",
       "      <td>Yes</td>\n",
       "      <td>No</td>\n",
       "      <td>1.803297</td>\n",
       "      <td>B</td>\n",
       "    </tr>\n",
       "    <tr>\n",
       "      <th>2391</th>\n",
       "      <td>3392</td>\n",
       "      <td>16</td>\n",
       "      <td>Female</td>\n",
       "      <td>Caucasian</td>\n",
       "      <td>Some College</td>\n",
       "      <td>17.819907</td>\n",
       "      <td>13</td>\n",
       "      <td>No</td>\n",
       "      <td>Moderate</td>\n",
       "      <td>No</td>\n",
       "      <td>No</td>\n",
       "      <td>No</td>\n",
       "      <td>Yes</td>\n",
       "      <td>2.140014</td>\n",
       "      <td>B</td>\n",
       "    </tr>\n",
       "  </tbody>\n",
       "</table>\n",
       "<p>2392 rows × 15 columns</p>\n",
       "</div>"
      ],
      "text/plain": [
       "      StudentID  Age  Gender         Ethnicity ParentalEducation  \\\n",
       "0          1001   17  Female         Caucasian      Some College   \n",
       "1          1002   18    Male         Caucasian       High School   \n",
       "2          1003   15    Male             Asian        Bachelor's   \n",
       "3          1004   17  Female         Caucasian        Bachelor's   \n",
       "4          1005   17  Female         Caucasian      Some College   \n",
       "...         ...  ...     ...               ...               ...   \n",
       "2387       3388   18  Female         Caucasian        Bachelor's   \n",
       "2388       3389   17    Male         Caucasian       High School   \n",
       "2389       3390   16  Female         Caucasian      Some College   \n",
       "2390       3391   16  Female  African American              None   \n",
       "2391       3392   16  Female         Caucasian      Some College   \n",
       "\n",
       "      StudyTimeWeekly  Absences Tutoring ParentalSupport Extracurricular  \\\n",
       "0           19.833723         7      Yes        Moderate              No   \n",
       "1           15.408756         0       No             Low              No   \n",
       "2            4.210570        26       No        Moderate              No   \n",
       "3           10.028829        14       No            High             Yes   \n",
       "4            4.672495        17      Yes            High              No   \n",
       "...               ...       ...      ...             ...             ...   \n",
       "2387        10.680555         2       No       Very High             Yes   \n",
       "2388         7.583217         4      Yes       Very High              No   \n",
       "2389         6.805500        20       No        Moderate              No   \n",
       "2390        12.416653        17       No        Moderate              No   \n",
       "2391        17.819907        13       No        Moderate              No   \n",
       "\n",
       "     Sports Music Volunteering       GPA GradeClass  \n",
       "0        No   Yes           No  2.929196          C  \n",
       "1        No    No           No  3.042915          B  \n",
       "2        No    No           No  0.112602          F  \n",
       "3        No    No           No  2.054218          D  \n",
       "4        No    No           No  1.288061          F  \n",
       "...     ...   ...          ...       ...        ...  \n",
       "2387     No    No           No  3.455509          A  \n",
       "2388    Yes    No           No  3.279150          F  \n",
       "2389     No    No          Yes  1.142333          C  \n",
       "2390    Yes   Yes           No  1.803297          B  \n",
       "2391     No    No          Yes  2.140014          B  \n",
       "\n",
       "[2392 rows x 15 columns]"
      ]
     },
     "execution_count": 152,
     "metadata": {},
     "output_type": "execute_result"
    }
   ],
   "source": [
    "df"
   ]
  },
  {
   "cell_type": "markdown",
   "metadata": {},
   "source": [
    "Eliminamos la columna StudentID ya que no nos aporta valor"
   ]
  },
  {
   "cell_type": "code",
   "execution_count": 153,
   "metadata": {},
   "outputs": [],
   "source": [
    "df.drop('StudentID', axis=1, inplace=True)"
   ]
  },
  {
   "cell_type": "markdown",
   "metadata": {},
   "source": [
    "### 4. Revisión del dataset resultante"
   ]
  },
  {
   "cell_type": "markdown",
   "metadata": {},
   "source": [
    "Revisamos que los tipos de datos han cambiado"
   ]
  },
  {
   "cell_type": "code",
   "execution_count": 154,
   "metadata": {},
   "outputs": [
    {
     "name": "stdout",
     "output_type": "stream",
     "text": [
      "<class 'pandas.core.frame.DataFrame'>\n",
      "RangeIndex: 2392 entries, 0 to 2391\n",
      "Data columns (total 14 columns):\n",
      " #   Column             Non-Null Count  Dtype  \n",
      "---  ------             --------------  -----  \n",
      " 0   Age                2392 non-null   int64  \n",
      " 1   Gender             2392 non-null   object \n",
      " 2   Ethnicity          2392 non-null   object \n",
      " 3   ParentalEducation  2392 non-null   object \n",
      " 4   StudyTimeWeekly    2392 non-null   float64\n",
      " 5   Absences           2392 non-null   int64  \n",
      " 6   Tutoring           2392 non-null   object \n",
      " 7   ParentalSupport    2392 non-null   object \n",
      " 8   Extracurricular    2392 non-null   object \n",
      " 9   Sports             2392 non-null   object \n",
      " 10  Music              2392 non-null   object \n",
      " 11  Volunteering       2392 non-null   object \n",
      " 12  GPA                2392 non-null   float64\n",
      " 13  GradeClass         2392 non-null   object \n",
      "dtypes: float64(2), int64(2), object(10)\n",
      "memory usage: 261.8+ KB\n"
     ]
    }
   ],
   "source": [
    "df.info()"
   ]
  },
  {
   "cell_type": "markdown",
   "metadata": {},
   "source": [
    "Revisamos la información estadistica, como se puede apreciar ahora no se muestra datos estadisticos de campos como la etnica que corresponde a una variable categorica y estaba siendo tratada como número"
   ]
  },
  {
   "cell_type": "code",
   "execution_count": 155,
   "metadata": {},
   "outputs": [
    {
     "data": {
      "text/html": [
       "<div>\n",
       "<style scoped>\n",
       "    .dataframe tbody tr th:only-of-type {\n",
       "        vertical-align: middle;\n",
       "    }\n",
       "\n",
       "    .dataframe tbody tr th {\n",
       "        vertical-align: top;\n",
       "    }\n",
       "\n",
       "    .dataframe thead th {\n",
       "        text-align: right;\n",
       "    }\n",
       "</style>\n",
       "<table border=\"1\" class=\"dataframe\">\n",
       "  <thead>\n",
       "    <tr style=\"text-align: right;\">\n",
       "      <th></th>\n",
       "      <th>Age</th>\n",
       "      <th>StudyTimeWeekly</th>\n",
       "      <th>Absences</th>\n",
       "      <th>GPA</th>\n",
       "    </tr>\n",
       "  </thead>\n",
       "  <tbody>\n",
       "    <tr>\n",
       "      <th>count</th>\n",
       "      <td>2392.000000</td>\n",
       "      <td>2392.000000</td>\n",
       "      <td>2392.000000</td>\n",
       "      <td>2392.000000</td>\n",
       "    </tr>\n",
       "    <tr>\n",
       "      <th>mean</th>\n",
       "      <td>16.468645</td>\n",
       "      <td>9.771992</td>\n",
       "      <td>14.541388</td>\n",
       "      <td>1.906186</td>\n",
       "    </tr>\n",
       "    <tr>\n",
       "      <th>std</th>\n",
       "      <td>1.123798</td>\n",
       "      <td>5.652774</td>\n",
       "      <td>8.467417</td>\n",
       "      <td>0.915156</td>\n",
       "    </tr>\n",
       "    <tr>\n",
       "      <th>min</th>\n",
       "      <td>15.000000</td>\n",
       "      <td>0.001057</td>\n",
       "      <td>0.000000</td>\n",
       "      <td>0.000000</td>\n",
       "    </tr>\n",
       "    <tr>\n",
       "      <th>25%</th>\n",
       "      <td>15.000000</td>\n",
       "      <td>5.043079</td>\n",
       "      <td>7.000000</td>\n",
       "      <td>1.174803</td>\n",
       "    </tr>\n",
       "    <tr>\n",
       "      <th>50%</th>\n",
       "      <td>16.000000</td>\n",
       "      <td>9.705363</td>\n",
       "      <td>15.000000</td>\n",
       "      <td>1.893393</td>\n",
       "    </tr>\n",
       "    <tr>\n",
       "      <th>75%</th>\n",
       "      <td>17.000000</td>\n",
       "      <td>14.408410</td>\n",
       "      <td>22.000000</td>\n",
       "      <td>2.622216</td>\n",
       "    </tr>\n",
       "    <tr>\n",
       "      <th>max</th>\n",
       "      <td>18.000000</td>\n",
       "      <td>19.978094</td>\n",
       "      <td>29.000000</td>\n",
       "      <td>4.000000</td>\n",
       "    </tr>\n",
       "  </tbody>\n",
       "</table>\n",
       "</div>"
      ],
      "text/plain": [
       "               Age  StudyTimeWeekly     Absences          GPA\n",
       "count  2392.000000      2392.000000  2392.000000  2392.000000\n",
       "mean     16.468645         9.771992    14.541388     1.906186\n",
       "std       1.123798         5.652774     8.467417     0.915156\n",
       "min      15.000000         0.001057     0.000000     0.000000\n",
       "25%      15.000000         5.043079     7.000000     1.174803\n",
       "50%      16.000000         9.705363    15.000000     1.893393\n",
       "75%      17.000000        14.408410    22.000000     2.622216\n",
       "max      18.000000        19.978094    29.000000     4.000000"
      ]
     },
     "execution_count": 155,
     "metadata": {},
     "output_type": "execute_result"
    }
   ],
   "source": [
    "df.describe()"
   ]
  },
  {
   "cell_type": "markdown",
   "metadata": {},
   "source": [
    "### 5. Se guarda el dataset modificado"
   ]
  },
  {
   "cell_type": "code",
   "execution_count": 156,
   "metadata": {},
   "outputs": [],
   "source": [
    "from pathlib import Path  \n",
    "filepath = Path('../data/processed/Student_performance_data.csv')  \n",
    "filepath.parent.mkdir(parents=True, exist_ok=True)  \n",
    "df.to_csv(filepath, index=False)"
   ]
  }
 ],
 "metadata": {
  "kernelspec": {
   "display_name": "python_data_science",
   "language": "python",
   "name": "python3"
  },
  "language_info": {
   "codemirror_mode": {
    "name": "ipython",
    "version": 3
   },
   "file_extension": ".py",
   "mimetype": "text/x-python",
   "name": "python",
   "nbconvert_exporter": "python",
   "pygments_lexer": "ipython3",
   "version": "3.12.4"
  }
 },
 "nbformat": 4,
 "nbformat_minor": 2
}
