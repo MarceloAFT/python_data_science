{
 "cells": [
  {
   "cell_type": "markdown",
   "metadata": {},
   "source": [
    "### 1. Carga de datos ###"
   ]
  },
  {
   "cell_type": "markdown",
   "metadata": {},
   "source": [
    "Importación de librerías y carga de datos"
   ]
  },
  {
   "cell_type": "code",
   "execution_count": 19,
   "metadata": {},
   "outputs": [],
   "source": [
    "import pandas as pd\n",
    "from pathlib import Path\n",
    "df = pd.read_csv('../data/raw/Student_performance_data.csv')"
   ]
  },
  {
   "cell_type": "markdown",
   "metadata": {},
   "source": [
    "### 2. Limpieza de datos ###"
   ]
  },
  {
   "cell_type": "markdown",
   "metadata": {},
   "source": [
    "Como se mencionó el notebook de análisis exploratorio, la calidad de este dataset es buena ya que no posee datos nulos ni duplicados."
   ]
  },
  {
   "cell_type": "markdown",
   "metadata": {},
   "source": [
    "### 3. Generación y modificación de datos"
   ]
  },
  {
   "cell_type": "markdown",
   "metadata": {},
   "source": [
    "Comenzamos modificando el tipo de dato de las variables categóricas y cambiando sus valores por unos más descriptivos con la finalidad de que el análisis y los gráficos sean más fáciles de entender."
   ]
  },
  {
   "cell_type": "markdown",
   "metadata": {},
   "source": [
    "Genero"
   ]
  },
  {
   "cell_type": "code",
   "execution_count": 20,
   "metadata": {},
   "outputs": [],
   "source": [
    "df = df.astype({\"Gender\": str})\n",
    "df.loc[df[\"Gender\"] == \"0\", \"Gender\"] = \"Male\"\n",
    "df.loc[df[\"Gender\"] == \"1\", \"Gender\"] = \"Female\""
   ]
  },
  {
   "cell_type": "markdown",
   "metadata": {},
   "source": [
    "Ethnicity"
   ]
  },
  {
   "cell_type": "code",
   "execution_count": 21,
   "metadata": {},
   "outputs": [],
   "source": [
    "df = df.astype({\"Ethnicity\": str})\n",
    "df.loc[df[\"Ethnicity\"] == \"0\", \"Ethnicity\"] = \"Caucasian\"\n",
    "df.loc[df[\"Ethnicity\"] == \"1\", \"Ethnicity\"] = \"African American\"\n",
    "df.loc[df[\"Ethnicity\"] == \"2\", \"Ethnicity\"] = \"Asian\"\n",
    "df.loc[df[\"Ethnicity\"] == \"3\", \"Ethnicity\"] = \"Other\""
   ]
  },
  {
   "cell_type": "markdown",
   "metadata": {},
   "source": [
    "ParentalEducation"
   ]
  },
  {
   "cell_type": "code",
   "execution_count": 22,
   "metadata": {},
   "outputs": [],
   "source": [
    "df = df.astype({\"ParentalEducation\": str})\n",
    "df.loc[df[\"ParentalEducation\"] == \"0\", \"ParentalEducation\"] = \"None\"\n",
    "df.loc[df[\"ParentalEducation\"] == \"1\", \"ParentalEducation\"] = \"High School\"\n",
    "df.loc[df[\"ParentalEducation\"] == \"2\", \"ParentalEducation\"] = \"Some College\"\n",
    "df.loc[df[\"ParentalEducation\"] == \"3\", \"ParentalEducation\"] = \"Bachelor's\"\n",
    "df.loc[df[\"ParentalEducation\"] == \"4\", \"ParentalEducation\"] = \"Higher\""
   ]
  },
  {
   "cell_type": "markdown",
   "metadata": {},
   "source": [
    "Tutoring"
   ]
  },
  {
   "cell_type": "code",
   "execution_count": 23,
   "metadata": {},
   "outputs": [],
   "source": [
    "df = df.astype({\"Tutoring\": str})\n",
    "df.loc[df[\"Tutoring\"] == \"0\", \"Tutoring\"] = \"No\"\n",
    "df.loc[df[\"Tutoring\"] == \"1\", \"Tutoring\"] = \"Yes\""
   ]
  },
  {
   "cell_type": "markdown",
   "metadata": {},
   "source": [
    "ParentalSupport"
   ]
  },
  {
   "cell_type": "code",
   "execution_count": 24,
   "metadata": {},
   "outputs": [],
   "source": [
    "df = df.astype({\"ParentalSupport\": str})\n",
    "df.loc[df[\"ParentalSupport\"] == \"0\", \"ParentalSupport\"] = \"None\"\n",
    "df.loc[df[\"ParentalSupport\"] == \"1\", \"ParentalSupport\"] = \"Low\"\n",
    "df.loc[df[\"ParentalSupport\"] == \"2\", \"ParentalSupport\"] = \"Moderate\"\n",
    "df.loc[df[\"ParentalSupport\"] == \"3\", \"ParentalSupport\"] = \"High\"\n",
    "df.loc[df[\"ParentalSupport\"] == \"4\", \"ParentalSupport\"] = \"Very High\""
   ]
  },
  {
   "cell_type": "markdown",
   "metadata": {},
   "source": [
    "Extracurricular"
   ]
  },
  {
   "cell_type": "code",
   "execution_count": 25,
   "metadata": {},
   "outputs": [],
   "source": [
    "df = df.astype({\"Extracurricular\": str})\n",
    "df.loc[df[\"Extracurricular\"] == \"0\", \"Extracurricular\"] = \"No\"\n",
    "df.loc[df[\"Extracurricular\"] == \"1\", \"Extracurricular\"] = \"Yes\""
   ]
  },
  {
   "cell_type": "markdown",
   "metadata": {},
   "source": [
    "Sports"
   ]
  },
  {
   "cell_type": "code",
   "execution_count": 26,
   "metadata": {},
   "outputs": [],
   "source": [
    "df = df.astype({\"Sports\": str})\n",
    "df.loc[df[\"Sports\"] == \"0\", \"Sports\"] = \"No\"\n",
    "df.loc[df[\"Sports\"] == \"1\", \"Sports\"] = \"Yes\""
   ]
  },
  {
   "cell_type": "markdown",
   "metadata": {},
   "source": [
    "Music"
   ]
  },
  {
   "cell_type": "code",
   "execution_count": 27,
   "metadata": {},
   "outputs": [],
   "source": [
    "df = df.astype({\"Music\": str})\n",
    "df.loc[df[\"Music\"] == \"0\", \"Music\"] = \"No\"\n",
    "df.loc[df[\"Music\"] == \"1\", \"Music\"] = \"Yes\""
   ]
  },
  {
   "cell_type": "markdown",
   "metadata": {},
   "source": [
    "Volunteering"
   ]
  },
  {
   "cell_type": "code",
   "execution_count": 28,
   "metadata": {},
   "outputs": [],
   "source": [
    "df = df.astype({\"Volunteering\": str})\n",
    "df.loc[df[\"Volunteering\"] == \"0\", \"Volunteering\"] = \"No\"\n",
    "df.loc[df[\"Volunteering\"] == \"1\", \"Volunteering\"] = \"Yes\""
   ]
  },
  {
   "cell_type": "markdown",
   "metadata": {},
   "source": [
    "GradeClass"
   ]
  },
  {
   "cell_type": "markdown",
   "metadata": {},
   "source": [
    "En este caso en particular, se reemplazan los valores existentes por unos generados mediante la utilización del GPA, ya que en el notebook de análisis exploratorio hemos visto que la columna GradeClass poseía datos erróneos."
   ]
  },
  {
   "cell_type": "code",
   "execution_count": 29,
   "metadata": {},
   "outputs": [],
   "source": [
    "df = df.astype({\"GradeClass\": str})\n",
    "df.loc[df.GPA >= 3.5 , \"GradeClass\"] = \"A\"\n",
    "df.loc[(df.GPA >= 3.0) & (df.GPA < 3.5) , \"GradeClass\"] = \"B\"\n",
    "df.loc[(df.GPA>= 2.5) & (df.GPA < 3.0) , \"GradeClass\"] = \"C\"\n",
    "df.loc[(df.GPA >= 2.0) & (df.GPA < 2.5) , \"GradeClass\"] = \"D\"\n",
    "df.loc[df.GPA < 2.0 , \"GradeClass\"] = \"F\""
   ]
  },
  {
   "cell_type": "markdown",
   "metadata": {},
   "source": [
    "Eliminamos la columna StudentID ya que no nos aporta valor"
   ]
  },
  {
   "cell_type": "code",
   "execution_count": 31,
   "metadata": {},
   "outputs": [],
   "source": [
    "df.drop('StudentID', axis=1, inplace=True)"
   ]
  },
  {
   "cell_type": "markdown",
   "metadata": {},
   "source": [
    "**Nota:** No se han generado nuevas variables ya que se ha considerado que las existentes son suficientes para realizar el análisis deseado."
   ]
  },
  {
   "cell_type": "markdown",
   "metadata": {},
   "source": [
    "### 4. Revisión del dataset resultante"
   ]
  },
  {
   "cell_type": "markdown",
   "metadata": {},
   "source": [
    "Revisamos que los tipos de datos han cambiado"
   ]
  },
  {
   "cell_type": "code",
   "execution_count": 32,
   "metadata": {},
   "outputs": [
    {
     "name": "stdout",
     "output_type": "stream",
     "text": [
      "<class 'pandas.core.frame.DataFrame'>\n",
      "RangeIndex: 2392 entries, 0 to 2391\n",
      "Data columns (total 14 columns):\n",
      " #   Column             Non-Null Count  Dtype  \n",
      "---  ------             --------------  -----  \n",
      " 0   Age                2392 non-null   int64  \n",
      " 1   Gender             2392 non-null   object \n",
      " 2   Ethnicity          2392 non-null   object \n",
      " 3   ParentalEducation  2392 non-null   object \n",
      " 4   StudyTimeWeekly    2392 non-null   float64\n",
      " 5   Absences           2392 non-null   int64  \n",
      " 6   Tutoring           2392 non-null   object \n",
      " 7   ParentalSupport    2392 non-null   object \n",
      " 8   Extracurricular    2392 non-null   object \n",
      " 9   Sports             2392 non-null   object \n",
      " 10  Music              2392 non-null   object \n",
      " 11  Volunteering       2392 non-null   object \n",
      " 12  GPA                2392 non-null   float64\n",
      " 13  GradeClass         2392 non-null   object \n",
      "dtypes: float64(2), int64(2), object(10)\n",
      "memory usage: 261.8+ KB\n"
     ]
    }
   ],
   "source": [
    "df.info()"
   ]
  },
  {
   "cell_type": "markdown",
   "metadata": {},
   "source": [
    "Revisamos la información estadística, como se puede apreciar ahora no se muestra datos estadísticos de campos como la étnica que corresponde a una variable categorica y estaba siendo tratada como número."
   ]
  },
  {
   "cell_type": "code",
   "execution_count": 33,
   "metadata": {},
   "outputs": [
    {
     "data": {
      "text/html": [
       "<div>\n",
       "<style scoped>\n",
       "    .dataframe tbody tr th:only-of-type {\n",
       "        vertical-align: middle;\n",
       "    }\n",
       "\n",
       "    .dataframe tbody tr th {\n",
       "        vertical-align: top;\n",
       "    }\n",
       "\n",
       "    .dataframe thead th {\n",
       "        text-align: right;\n",
       "    }\n",
       "</style>\n",
       "<table border=\"1\" class=\"dataframe\">\n",
       "  <thead>\n",
       "    <tr style=\"text-align: right;\">\n",
       "      <th></th>\n",
       "      <th>Age</th>\n",
       "      <th>StudyTimeWeekly</th>\n",
       "      <th>Absences</th>\n",
       "      <th>GPA</th>\n",
       "    </tr>\n",
       "  </thead>\n",
       "  <tbody>\n",
       "    <tr>\n",
       "      <th>count</th>\n",
       "      <td>2392.000000</td>\n",
       "      <td>2392.000000</td>\n",
       "      <td>2392.000000</td>\n",
       "      <td>2392.000000</td>\n",
       "    </tr>\n",
       "    <tr>\n",
       "      <th>mean</th>\n",
       "      <td>16.468645</td>\n",
       "      <td>9.771992</td>\n",
       "      <td>14.541388</td>\n",
       "      <td>1.906186</td>\n",
       "    </tr>\n",
       "    <tr>\n",
       "      <th>std</th>\n",
       "      <td>1.123798</td>\n",
       "      <td>5.652774</td>\n",
       "      <td>8.467417</td>\n",
       "      <td>0.915156</td>\n",
       "    </tr>\n",
       "    <tr>\n",
       "      <th>min</th>\n",
       "      <td>15.000000</td>\n",
       "      <td>0.001057</td>\n",
       "      <td>0.000000</td>\n",
       "      <td>0.000000</td>\n",
       "    </tr>\n",
       "    <tr>\n",
       "      <th>25%</th>\n",
       "      <td>15.000000</td>\n",
       "      <td>5.043079</td>\n",
       "      <td>7.000000</td>\n",
       "      <td>1.174803</td>\n",
       "    </tr>\n",
       "    <tr>\n",
       "      <th>50%</th>\n",
       "      <td>16.000000</td>\n",
       "      <td>9.705363</td>\n",
       "      <td>15.000000</td>\n",
       "      <td>1.893393</td>\n",
       "    </tr>\n",
       "    <tr>\n",
       "      <th>75%</th>\n",
       "      <td>17.000000</td>\n",
       "      <td>14.408410</td>\n",
       "      <td>22.000000</td>\n",
       "      <td>2.622216</td>\n",
       "    </tr>\n",
       "    <tr>\n",
       "      <th>max</th>\n",
       "      <td>18.000000</td>\n",
       "      <td>19.978094</td>\n",
       "      <td>29.000000</td>\n",
       "      <td>4.000000</td>\n",
       "    </tr>\n",
       "  </tbody>\n",
       "</table>\n",
       "</div>"
      ],
      "text/plain": [
       "               Age  StudyTimeWeekly     Absences          GPA\n",
       "count  2392.000000      2392.000000  2392.000000  2392.000000\n",
       "mean     16.468645         9.771992    14.541388     1.906186\n",
       "std       1.123798         5.652774     8.467417     0.915156\n",
       "min      15.000000         0.001057     0.000000     0.000000\n",
       "25%      15.000000         5.043079     7.000000     1.174803\n",
       "50%      16.000000         9.705363    15.000000     1.893393\n",
       "75%      17.000000        14.408410    22.000000     2.622216\n",
       "max      18.000000        19.978094    29.000000     4.000000"
      ]
     },
     "execution_count": 33,
     "metadata": {},
     "output_type": "execute_result"
    }
   ],
   "source": [
    "df.describe()"
   ]
  },
  {
   "cell_type": "markdown",
   "metadata": {},
   "source": [
    "### 5. Se guarda el dataset modificado"
   ]
  },
  {
   "cell_type": "code",
   "execution_count": 34,
   "metadata": {},
   "outputs": [],
   "source": [
    "from pathlib import Path  \n",
    "filepath = Path('../data/processed/Student_performance_data.csv')  \n",
    "filepath.parent.mkdir(parents=True, exist_ok=True)  \n",
    "df.to_csv(filepath, index=False)"
   ]
  }
 ],
 "metadata": {
  "kernelspec": {
   "display_name": "python_data_science",
   "language": "python",
   "name": "python3"
  },
  "language_info": {
   "codemirror_mode": {
    "name": "ipython",
    "version": 3
   },
   "file_extension": ".py",
   "mimetype": "text/x-python",
   "name": "python",
   "nbconvert_exporter": "python",
   "pygments_lexer": "ipython3",
   "version": "3.12.4"
  }
 },
 "nbformat": 4,
 "nbformat_minor": 2
}
